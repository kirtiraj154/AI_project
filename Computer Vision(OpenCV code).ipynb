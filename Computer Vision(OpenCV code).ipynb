{
 "cells": [
  {
   "cell_type": "code",
   "execution_count": 1,
   "id": "0128080c",
   "metadata": {},
   "outputs": [],
   "source": [
    "import cv2\n",
    "import numpy as np"
   ]
  },
  {
   "cell_type": "markdown",
   "id": "4118aff7",
   "metadata": {},
   "source": [
    "## Load or Read Image"
   ]
  },
  {
   "cell_type": "code",
   "execution_count": 2,
   "id": "dfc74d2b",
   "metadata": {},
   "outputs": [],
   "source": [
    "## Load an image using 'imread' specifying the path to image\n",
    "img=cv2.imread(\"C:\\\\Users\\\\KIRTI RAJ PRADHAN\\\\Downloads\\\\Modi.jpg\",1)"
   ]
  },
  {
   "cell_type": "markdown",
   "id": "c5554ea1",
   "metadata": {},
   "source": [
    "## Lets take a closer look at how images are stored"
   ]
  },
  {
   "cell_type": "code",
   "execution_count": 3,
   "id": "10b56fba",
   "metadata": {},
   "outputs": [
    {
     "name": "stdout",
     "output_type": "stream",
     "text": [
      "[[[255 255 255]\n",
      "  [255 255 255]\n",
      "  [255 255 255]\n",
      "  ...\n",
      "  [255 255 255]\n",
      "  [255 255 255]\n",
      "  [255 255 255]]\n",
      "\n",
      " [[255 255 255]\n",
      "  [255 255 255]\n",
      "  [255 255 255]\n",
      "  ...\n",
      "  [255 255 255]\n",
      "  [255 255 255]\n",
      "  [255 255 255]]\n",
      "\n",
      " [[255 255 255]\n",
      "  [255 255 255]\n",
      "  [255 255 255]\n",
      "  ...\n",
      "  [255 255 255]\n",
      "  [255 255 255]\n",
      "  [255 255 255]]\n",
      "\n",
      " ...\n",
      "\n",
      " [[255 255 255]\n",
      "  [255 255 255]\n",
      "  [255 255 255]\n",
      "  ...\n",
      "  [255 255 255]\n",
      "  [255 255 255]\n",
      "  [255 255 255]]\n",
      "\n",
      " [[255 255 255]\n",
      "  [255 255 255]\n",
      "  [255 255 255]\n",
      "  ...\n",
      "  [255 255 255]\n",
      "  [255 255 255]\n",
      "  [255 255 255]]\n",
      "\n",
      " [[255 255 255]\n",
      "  [255 255 255]\n",
      "  [255 255 255]\n",
      "  ...\n",
      "  [255 255 255]\n",
      "  [255 255 255]\n",
      "  [255 255 255]]]\n"
     ]
    }
   ],
   "source": [
    "print(img)"
   ]
  },
  {
   "cell_type": "markdown",
   "id": "1ede38a4",
   "metadata": {},
   "source": [
    "## Shape gives the dimensions of the image array"
   ]
  },
  {
   "cell_type": "code",
   "execution_count": 4,
   "id": "d65070d8",
   "metadata": {},
   "outputs": [
    {
     "data": {
      "text/plain": [
       "(1358, 1500, 3)"
      ]
     },
     "execution_count": 4,
     "metadata": {},
     "output_type": "execute_result"
    }
   ],
   "source": [
    "img.shape\n",
    "# The 3D dimensions are 1358 pixels in height * 1500 pixels wide\n",
    "# 3 means that there are 3 components (RGB) that make up this image"
   ]
  },
  {
   "cell_type": "markdown",
   "id": "f95f5d94",
   "metadata": {},
   "source": [
    "## Display the image"
   ]
  },
  {
   "cell_type": "code",
   "execution_count": 5,
   "id": "df8be228",
   "metadata": {},
   "outputs": [],
   "source": [
    "# To display our image variable, we use 'imshow'\n",
    "# The first parameter will be the title shown on image window\n",
    "# The second parameter is image variable\n",
    "cv2.imshow('PM',img)\n",
    "cv2.waitKey()\n",
    "cv2.destroyAllWindows()"
   ]
  },
  {
   "cell_type": "code",
   "execution_count": 6,
   "id": "cbe58b79",
   "metadata": {},
   "outputs": [],
   "source": [
    "img=cv2.imread(\"C:\\\\Users\\\\KIRTI RAJ PRADHAN\\\\Downloads\\\\Modi.jpg\")\n",
    "cv2.imshow(\"PM\",img)\n",
    "cv2.waitKey()\n",
    "cv2.destroyAllWindows()"
   ]
  },
  {
   "cell_type": "markdown",
   "id": "6ba3213f",
   "metadata": {},
   "source": [
    "## Save Image"
   ]
  },
  {
   "cell_type": "code",
   "execution_count": 7,
   "id": "97276ec2",
   "metadata": {},
   "outputs": [
    {
     "data": {
      "text/plain": [
       "True"
      ]
     },
     "execution_count": 7,
     "metadata": {},
     "output_type": "execute_result"
    }
   ],
   "source": [
    "cv2.imwrite(\"pm_b_w.jpg\",img)"
   ]
  },
  {
   "cell_type": "markdown",
   "id": "f9ec7ce7",
   "metadata": {},
   "source": [
    "## Resize Image"
   ]
  },
  {
   "cell_type": "code",
   "execution_count": 8,
   "id": "5c3bc6a4",
   "metadata": {},
   "outputs": [],
   "source": [
    "img=cv2.imread(\"C:\\\\Users\\\\KIRTI RAJ PRADHAN\\\\Downloads\\\\Modi.jpg\")\n",
    "resized_image=cv2.resize(img,(500,500))\n",
    "gray=cv2.cvtColor(resized_image,cv2.COLOR_BGR2GRAY)\n",
    "cv2.imshow(\"PM\",gray)\n",
    "cv2.waitKey()\n",
    "cv2.destroyAllWindows()"
   ]
  },
  {
   "cell_type": "code",
   "execution_count": 9,
   "id": "4e494cfb",
   "metadata": {},
   "outputs": [
    {
     "data": {
      "text/plain": [
       "679.0"
      ]
     },
     "execution_count": 9,
     "metadata": {},
     "output_type": "execute_result"
    }
   ],
   "source": [
    "img.shape[0]*0.5"
   ]
  },
  {
   "cell_type": "code",
   "execution_count": 10,
   "id": "eca2f826",
   "metadata": {},
   "outputs": [
    {
     "data": {
      "text/plain": [
       "750.0"
      ]
     },
     "execution_count": 10,
     "metadata": {},
     "output_type": "execute_result"
    }
   ],
   "source": [
    "img.shape[1]*0.5"
   ]
  },
  {
   "cell_type": "markdown",
   "id": "07ed24a7",
   "metadata": {},
   "source": [
    "## Face Detection using HAAR Cascade Classifier"
   ]
  },
  {
   "cell_type": "code",
   "execution_count": 11,
   "id": "5fcbacb6",
   "metadata": {},
   "outputs": [],
   "source": [
    "face_classifier=cv2.CascadeClassifier('C:\\\\Users\\\\KIRTI RAJ PRADHAN\\\\Downloads\\\\haarcascade_frontalface_default.xml')\n",
    "image=cv2.imread('C:\\\\Users\\\\KIRTI RAJ PRADHAN\\\\Downloads\\\\Modi.jpg')\n",
    "image=cv2.resize(img,(500,500))\n",
    "gray=cv2.cvtColor(image,cv2.COLOR_BGR2GRAY)\n",
    "face=face_classifier.detectMultiScale(gray,1.05,5)"
   ]
  },
  {
   "cell_type": "code",
   "execution_count": 12,
   "id": "563c6fec",
   "metadata": {},
   "outputs": [
    {
     "name": "stdout",
     "output_type": "stream",
     "text": [
      "[[205  79 217 217]]\n"
     ]
    }
   ],
   "source": [
    "print(face)"
   ]
  },
  {
   "cell_type": "code",
   "execution_count": 13,
   "id": "458039b7",
   "metadata": {},
   "outputs": [
    {
     "name": "stderr",
     "output_type": "stream",
     "text": [
      "<>:6: SyntaxWarning: \"is\" with a literal. Did you mean \"==\"?\n",
      "<>:6: SyntaxWarning: \"is\" with a literal. Did you mean \"==\"?\n",
      "C:\\Users\\KIRTI RAJ PRADHAN\\AppData\\Local\\Temp\\ipykernel_26968\\2201621446.py:6: SyntaxWarning: \"is\" with a literal. Did you mean \"==\"?\n",
      "  if face is ():\n"
     ]
    }
   ],
   "source": [
    "face_classifier=cv2.CascadeClassifier('C:\\\\Users\\\\KIRTI RAJ PRADHAN\\\\Downloads\\\\haarcascade_frontalface_default.xml')\n",
    "image=cv2.imread('C:\\\\Users\\\\KIRTI RAJ PRADHAN\\\\Downloads\\\\Modi.jpg')\n",
    "image=cv2.resize(img,(500,500))\n",
    "gray=cv2.cvtColor(image,cv2.COLOR_BGR2GRAY)\n",
    "faces=face_classifier.detectMultiScale(gray,1.05,5)\n",
    "if face is ():\n",
    "    print(\"No face found\")\n",
    "for (x,y,w,h) in faces:\n",
    "    cv2.rectangle(image,(x,y),(x+w,y+h),(0,255,100),)\n",
    "cv2.imshow('Face detection',image)\n",
    "cv2.waitKey()\n",
    "cv2.destroyAllWindows()"
   ]
  },
  {
   "cell_type": "markdown",
   "id": "d3a37688",
   "metadata": {},
   "source": [
    "## Face and Eye Detection using HARR Cascade Classifier in image"
   ]
  },
  {
   "cell_type": "code",
   "execution_count": 14,
   "id": "a18988c8",
   "metadata": {},
   "outputs": [
    {
     "name": "stderr",
     "output_type": "stream",
     "text": [
      "<>:7: SyntaxWarning: \"is\" with a literal. Did you mean \"==\"?\n",
      "<>:7: SyntaxWarning: \"is\" with a literal. Did you mean \"==\"?\n",
      "C:\\Users\\KIRTI RAJ PRADHAN\\AppData\\Local\\Temp\\ipykernel_26968\\184262411.py:7: SyntaxWarning: \"is\" with a literal. Did you mean \"==\"?\n",
      "  if faces is ():\n"
     ]
    }
   ],
   "source": [
    "face_classifier=cv2.CascadeClassifier(\"C:\\\\Users\\\\KIRTI RAJ PRADHAN\\\\Downloads\\\\haarcascade_frontalface_default.xml\")\n",
    "eye_classifier=cv2.CascadeClassifier(\"C:\\\\Users\\\\KIRTI RAJ PRADHAN\\\\Downloads\\\\haarcascade_eye.xml\")\n",
    "img=cv2.imread(\"C:\\\\Users\\\\KIRTI RAJ PRADHAN\\\\Downloads\\\\Modi.jpg\")\n",
    "resize_image=cv2.resize(img,(500,500))\n",
    "gray=cv2.cvtColor(resize_image,cv2.COLOR_BGR2GRAY)\n",
    "faces=face_classifier.detectMultiScale(gray,1.3,5)\n",
    "if faces is ():\n",
    "    print(\"Not Face Found\")\n",
    "for (x,y,w,h) in faces:\n",
    "    cv2.rectangle(resized_image,(x,y),(x+w,y+h),(255,0,0),2)\n",
    "    roi_gray=gray[y:y+h,x:x+w]\n",
    "    roi_color=resized_image[y:y+h,x:x+w]\n",
    "    eyes=eye_classifier.detectMultiScale(roi_gray)\n",
    "    for (ex,ey,ew,eh) in eyes:\n",
    "        cv2.rectangle(roi_color,(ex,ey),(ex+ew,ey+eh),(0,255,0),2)\n",
    "cv2.imshow('img',resized_image)\n",
    "cv2.waitKey()\n",
    "cv2.destroyAllWindows()"
   ]
  },
  {
   "cell_type": "markdown",
   "id": "3ace5126",
   "metadata": {},
   "source": [
    "## Capture a Vedio"
   ]
  },
  {
   "cell_type": "code",
   "execution_count": 15,
   "id": "41a0f906",
   "metadata": {},
   "outputs": [],
   "source": [
    "# Doing some face recognition with the webcam\n",
    "import cv2\n",
    "video=cv2.VideoCapture(0) #0--->webcam\n",
    "while True:\n",
    "    check, frame = video.read()\n",
    "    #gray=cv2.cvtColor(frame,cv2.COLOR_BGR2GRAY)\n",
    "    cv2.imshow('video',frame)\n",
    "    if cv2.waitKey(1)==ord('q'):\n",
    "        break\n",
    "video.release()\n",
    "cv2.destroyAllWindows()"
   ]
  },
  {
   "cell_type": "markdown",
   "id": "81d9a298",
   "metadata": {},
   "source": [
    "## Face and Eye Detection using HARR Cascade Classifier in video"
   ]
  },
  {
   "cell_type": "code",
   "execution_count": 16,
   "id": "1dc6f9a8",
   "metadata": {},
   "outputs": [],
   "source": [
    "face_cascade=cv2.CascadeClassifier(\"C:\\\\Users\\\\KIRTI RAJ PRADHAN\\\\Downloads\\\\haarcascade_frontalface_default.xml\")\n",
    "eye_cascade=cv2.CascadeClassifier(\"C:\\\\Users\\\\KIRTI RAJ PRADHAN\\\\Downloads\\\\haarcascade_eye.xml\")\n",
    "def detect(gray,frame):\n",
    "    faces=face_cascade.detectMultiScale(gray,1.3,5)\n",
    "    for (x,y,w,h) in faces:\n",
    "        cv2.rectangle(frame,(x,y),(x+w,y+h),(255,0,0),2)\n",
    "        roi_gray=gray[y:y+h,x:x+w]\n",
    "        roi_color=frame[y:y+h,x:x+w]\n",
    "        eyes=eye_cascade.detectMultiScale(roi_gray,1.1,3)\n",
    "        for (ex,ey,ew,eh) in eyes:\n",
    "            cv2.rectangle(roi_color,(ex,ey),(ex+ew,ey+eh),(0,255,0),2)\n",
    "    return frame\n",
    "video=cv2.VideoCapture(0) #0--->webcam\n",
    "while True:\n",
    "    check, frame = video.read()\n",
    "    gray=cv2.cvtColor(frame,cv2.COLOR_BGR2GRAY)\n",
    "    canvas=detect(gray,frame)\n",
    "    cv2.imshow('video',canvas)\n",
    "    if cv2.waitKey(1)==ord('q'):  #press the key 'q' then the video will off\n",
    "        break\n",
    "video.release()\n",
    "cv2.destroyAllWindows()"
   ]
  },
  {
   "cell_type": "markdown",
   "id": "2fd3a9aa",
   "metadata": {},
   "source": [
    "## Predistrian Detection "
   ]
  },
  {
   "cell_type": "code",
   "execution_count": null,
   "id": "3ed5ca0c",
   "metadata": {},
   "outputs": [],
   "source": [
    "import cv2\n",
    "body_classifier=cv2.CascadeClassifier(\"C:\\\\Users\\\\KIRTI RAJ PRADHAN\\\\Downloads\\\\haarcascade_fullbody.xml\")\n",
    "cap=cv2.VideoCapture(\"C:\\\\Users\\\\KIRTI RAJ PRADHAN\\\\Downloads\\\\walking.avi\")\n",
    "while cap.isOpened():\n",
    "    check,frame=cap.read()\n",
    "    gray=cv2.cvtColor(frame,cv2.COLOR_BGR2GRAY)\n",
    "    bodies=body_classifier.detectMultiScale(gray,1.2,3)\n",
    "    for (x,y,w,h) in bodies:\n",
    "        cv2.rectangle(frame,(x,y),(x+w,y+h),(255,0,0),2)\n",
    "        cv2.imshow('Pedestrians',frame)\n",
    "    if cv2.waitKey(1)==ord('q'):  #press the key 'q' then the video will off\n",
    "        break\n",
    "cap.release()\n",
    "cv2.destroyAllWindows()"
   ]
  },
  {
   "cell_type": "code",
   "execution_count": 18,
   "id": "3bdb343b",
   "metadata": {},
   "outputs": [],
   "source": [
    "import time\n",
    "car_classifier=cv2.CascadeClassifier(\"C:\\\\Users\\\\KIRTI RAJ PRADHAN\\\\Downloads\\\\haarcascade_car.xml\")\n",
    "cap=cv2.VideoCapture(\"C:\\\\Users\\\\KIRTI RAJ PRADHAN\\\\Downloads\\\\cars.avi\")\n",
    "while cap.isOpened():\n",
    "    time.sleep(.05)\n",
    "    check,frame=cap.read()\n",
    "    gray=cv2.cvtColor(frame,cv2.COLOR_BGR2GRAY)\n",
    "    cars=car_classifier.detectMultiScale(gray,1.4,2)\n",
    "    for (x,y,w,h) in cars:\n",
    "        cv2.rectangle(frame,(x,y),(x+w,y+h),(0,255,255),2)\n",
    "        cv2.imshow('cars',frame)\n",
    "    if cv2.waitKey(1)==ord('q'):  #press the key 'q' then the video will off\n",
    "        break\n",
    "cap.release()\n",
    "cv2.destroyAllWindows()"
   ]
  },
  {
   "cell_type": "code",
   "execution_count": null,
   "id": "4ea9d905",
   "metadata": {},
   "outputs": [],
   "source": []
  }
 ],
 "metadata": {
  "kernelspec": {
   "display_name": "Python 3 (ipykernel)",
   "language": "python",
   "name": "python3"
  },
  "language_info": {
   "codemirror_mode": {
    "name": "ipython",
    "version": 3
   },
   "file_extension": ".py",
   "mimetype": "text/x-python",
   "name": "python",
   "nbconvert_exporter": "python",
   "pygments_lexer": "ipython3",
   "version": "3.9.12"
  }
 },
 "nbformat": 4,
 "nbformat_minor": 5
}
